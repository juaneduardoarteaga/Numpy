{
  "nbformat": 4,
  "nbformat_minor": 0,
  "metadata": {
    "colab": {
      "name": "Copia de Master_Class_3.ipynb",
      "provenance": [],
      "include_colab_link": true
    },
    "kernelspec": {
      "name": "python3",
      "display_name": "Python 3"
    },
    "language_info": {
      "name": "python"
    }
  },
  "cells": [
    {
      "cell_type": "markdown",
      "metadata": {
        "id": "view-in-github",
        "colab_type": "text"
      },
      "source": [
        "<a href=\"https://colab.research.google.com/github/juaneduardoarteaga/Numpy/blob/master/Copia_de_Master_Class_3.ipynb\" target=\"_parent\"><img src=\"https://colab.research.google.com/assets/colab-badge.svg\" alt=\"Open In Colab\"/></a>"
      ]
    },
    {
      "cell_type": "code",
      "execution_count": null,
      "metadata": {
        "colab": {
          "base_uri": "https://localhost:8080/"
        },
        "id": "8Pd1iW7w7VRT",
        "outputId": "92cdbc82-70ed-49b8-af99-88c987c440b2"
      },
      "outputs": [
        {
          "output_type": "stream",
          "name": "stdout",
          "text": [
            "[] <class 'list'>\n",
            "() <class 'tuple'>\n"
          ]
        }
      ],
      "source": [
        "#Listas y Tuplas\n",
        "l=[]\n",
        "t=()\n",
        "print(l, type(l))\n",
        "print(t, type(t))"
      ]
    },
    {
      "cell_type": "code",
      "source": [
        "l=[1,2,3,4,5]\n",
        "t=(1,2,3,4,5)\n",
        "#Indexar una lista\n",
        "print(l[0])\n",
        "print(t[4])"
      ],
      "metadata": {
        "colab": {
          "base_uri": "https://localhost:8080/"
        },
        "id": "dWuM_CUDH-Oh",
        "outputId": "763b59cb-088b-4e03-a938-08c7b33e3e07"
      },
      "execution_count": null,
      "outputs": [
        {
          "output_type": "stream",
          "name": "stdout",
          "text": [
            "1\n",
            "5\n"
          ]
        }
      ]
    },
    {
      "cell_type": "code",
      "source": [
        "l=[1,2,3,4,5]\n",
        "print(l)\n",
        "t=(1,2,3,4,5)\n",
        "#t[4]='Hoy'\n",
        "l[4]='Hola'\n",
        "print(l)"
      ],
      "metadata": {
        "colab": {
          "base_uri": "https://localhost:8080/"
        },
        "id": "Yf8JA7jmJNsd",
        "outputId": "3203bfc0-c30d-4d7f-ef7d-08f9a304f41f"
      },
      "execution_count": null,
      "outputs": [
        {
          "output_type": "stream",
          "name": "stdout",
          "text": [
            "[1, 2, 3, 4, 5]\n",
            "[1, 2, 3, 4, 'Hola']\n"
          ]
        }
      ]
    },
    {
      "cell_type": "code",
      "source": [
        "l=[1.1,2.3,3.4,4.4,'Hola', True, [1,2,3,4]]\n",
        "print(len(l))\n",
        "mensaje='Hola '\n",
        "print(len(mensaje))"
      ],
      "metadata": {
        "colab": {
          "base_uri": "https://localhost:8080/"
        },
        "id": "CWLZtBTcKF5M",
        "outputId": "4e20fc0d-dc21-449e-8574-22e5ce785fc6"
      },
      "execution_count": null,
      "outputs": [
        {
          "output_type": "stream",
          "name": "stdout",
          "text": [
            "7\n",
            "5\n"
          ]
        }
      ]
    },
    {
      "cell_type": "code",
      "source": [
        "l=[1,2,3,['A','B', 'C']]\n",
        "print(l[3][2])"
      ],
      "metadata": {
        "colab": {
          "base_uri": "https://localhost:8080/"
        },
        "id": "YSUv4KqWL63y",
        "outputId": "b9de46fa-3c39-42ee-90fd-3531690eea8f"
      },
      "execution_count": null,
      "outputs": [
        {
          "output_type": "stream",
          "name": "stdout",
          "text": [
            "C\n"
          ]
        }
      ]
    },
    {
      "cell_type": "code",
      "source": [
        "l=[1,2]\n",
        "print(l)\n",
        "l.append('Hola')\n",
        "print(l)"
      ],
      "metadata": {
        "colab": {
          "base_uri": "https://localhost:8080/"
        },
        "id": "8Ggc8Og2Mxk5",
        "outputId": "c95dd9e9-3764-49f9-a814-7411202cc9b8"
      },
      "execution_count": null,
      "outputs": [
        {
          "output_type": "stream",
          "name": "stdout",
          "text": [
            "[1, 2]\n",
            "[1, 2, 'Hola']\n"
          ]
        }
      ]
    },
    {
      "cell_type": "code",
      "source": [
        "l=[1,2,3,1,1,1,1]\n",
        "print(l.count(1))"
      ],
      "metadata": {
        "colab": {
          "base_uri": "https://localhost:8080/"
        },
        "id": "6VFLRjbCNadU",
        "outputId": "8c724f92-0f3b-4315-ffc5-dbe0897ac787"
      },
      "execution_count": null,
      "outputs": [
        {
          "output_type": "stream",
          "name": "stdout",
          "text": [
            "5\n"
          ]
        }
      ]
    },
    {
      "cell_type": "code",
      "source": [
        "fruits = ['apple', 'banana', 'cherry', 'cherry']\n",
        "x = fruits.count(\"cherry\")\n",
        "print(x)"
      ],
      "metadata": {
        "colab": {
          "base_uri": "https://localhost:8080/"
        },
        "id": "vSSbb0bWNtGQ",
        "outputId": "5025a44a-7c4d-4c9f-91a2-3de152e58136"
      },
      "execution_count": null,
      "outputs": [
        {
          "output_type": "stream",
          "name": "stdout",
          "text": [
            "2\n"
          ]
        }
      ]
    },
    {
      "cell_type": "code",
      "source": [
        "cars = ['Ford', 'BMW', 'Volvo']\n",
        "print(cars)\n",
        "cars.sort()\n",
        "print(cars)\n"
      ],
      "metadata": {
        "colab": {
          "base_uri": "https://localhost:8080/"
        },
        "id": "MscIfml7N93A",
        "outputId": "904d6f4b-fe4e-46ab-8f2d-17ed647c9198"
      },
      "execution_count": null,
      "outputs": [
        {
          "output_type": "stream",
          "name": "stdout",
          "text": [
            "['Ford', 'BMW', 'Volvo']\n",
            "['BMW', 'Ford', 'Volvo']\n"
          ]
        }
      ]
    },
    {
      "cell_type": "code",
      "source": [
        "l=[1,2,3,4]\n",
        "print(l)\n",
        "print(l[1:3])\n"
      ],
      "metadata": {
        "colab": {
          "base_uri": "https://localhost:8080/"
        },
        "id": "EgS9gsMGOfkz",
        "outputId": "c303f7c6-0acd-4819-ef2d-97557e90874b"
      },
      "execution_count": null,
      "outputs": [
        {
          "output_type": "stream",
          "name": "stdout",
          "text": [
            "[1, 2, 3, 4]\n",
            "[2, 3]\n"
          ]
        }
      ]
    },
    {
      "cell_type": "code",
      "source": [
        "t=(1,2,('A','B'))\n",
        "print(t)"
      ],
      "metadata": {
        "colab": {
          "base_uri": "https://localhost:8080/"
        },
        "id": "nbr9zAcrPRuF",
        "outputId": "ccb1250f-7cac-4fce-c7ee-edc975180eed"
      },
      "execution_count": null,
      "outputs": [
        {
          "output_type": "stream",
          "name": "stdout",
          "text": [
            "(1, 2, ('A', 'B'))\n"
          ]
        }
      ]
    },
    {
      "cell_type": "code",
      "source": [
        "cont=10\n",
        "while cont>-1:\n",
        "  print(cont)\n",
        "  cont-=1\n"
      ],
      "metadata": {
        "id": "aFXVh6brP-c3"
      },
      "execution_count": null,
      "outputs": []
    },
    {
      "cell_type": "code",
      "source": [
        "num=int(input('Ingrese un numero Natural: '))\n",
        "if num < 0:\n",
        "  print('No es posible hacer la impresión')\n",
        "else:\n",
        "  cont=1\n",
        "  while cont <= num:\n",
        "    print(cont)\n",
        "    cont+=1\n",
        "\n"
      ],
      "metadata": {
        "colab": {
          "base_uri": "https://localhost:8080/"
        },
        "id": "xdQF0-MGSj2t",
        "outputId": "d7491cdd-a6ad-4fb9-c527-747ffc1255ba"
      },
      "execution_count": null,
      "outputs": [
        {
          "output_type": "stream",
          "name": "stdout",
          "text": [
            "Ingrese un numero Natural: -5\n",
            "No es posible hacer la impresión\n"
          ]
        }
      ]
    },
    {
      "cell_type": "code",
      "source": [
        "num=int(input('Ingrese un numero Natural: '))\n",
        "if num < 0:\n",
        "  print('No es posible hacer la impresión')\n",
        "else:\n",
        "  cont=0\n",
        "  while cont <= num:\n",
        "    if cont%2==0:\n",
        "      print(cont)\n",
        "    cont+=1\n"
      ],
      "metadata": {
        "colab": {
          "base_uri": "https://localhost:8080/"
        },
        "id": "hmsPvzubTkb-",
        "outputId": "0e7e22b8-a9bb-4395-c242-afa011aada8b"
      },
      "execution_count": null,
      "outputs": [
        {
          "output_type": "stream",
          "name": "stdout",
          "text": [
            "Ingrese un numero Natural: 10\n",
            "0\n",
            "2\n",
            "4\n",
            "6\n",
            "8\n",
            "10\n"
          ]
        }
      ]
    },
    {
      "cell_type": "code",
      "source": [
        "t=('H','O','L','A')\n",
        "print(t)\n",
        "x=map(ord, t)\n",
        "print(list(x))\n"
      ],
      "metadata": {
        "colab": {
          "base_uri": "https://localhost:8080/"
        },
        "id": "AQfh7LZ5Ujmr",
        "outputId": "47ae2e8f-aaec-4ee6-8cf5-c0b67c3e3e72"
      },
      "execution_count": null,
      "outputs": [
        {
          "output_type": "stream",
          "name": "stdout",
          "text": [
            "('H', 'O', 'L', 'A')\n",
            "[72, 79, 76, 65]\n"
          ]
        }
      ]
    },
    {
      "cell_type": "code",
      "source": [
        "#Ciclo For\n",
        "l=[1,2,3,4,5,'H']\n",
        "for i in l:\n",
        "  print(i)"
      ],
      "metadata": {
        "colab": {
          "base_uri": "https://localhost:8080/"
        },
        "id": "GpJJ9dkdVI4e",
        "outputId": "9fdd240a-09ce-4bd8-e544-da92ecd9372c"
      },
      "execution_count": null,
      "outputs": [
        {
          "output_type": "stream",
          "name": "stdout",
          "text": [
            "1\n",
            "2\n",
            "3\n",
            "4\n",
            "5\n",
            "H\n"
          ]
        }
      ]
    },
    {
      "cell_type": "code",
      "source": [
        "mensaje='Hoy es sabado'\n",
        "for item in mensaje:\n",
        "  print(item)"
      ],
      "metadata": {
        "id": "3xCcTvNoVqak"
      },
      "execution_count": null,
      "outputs": []
    },
    {
      "cell_type": "code",
      "source": [
        "for i in range(11):\n",
        "  print(i)"
      ],
      "metadata": {
        "colab": {
          "base_uri": "https://localhost:8080/"
        },
        "id": "T0pTTgJEV4CU",
        "outputId": "2b43fa55-24c2-44b9-c4d4-f26ff72b238a"
      },
      "execution_count": null,
      "outputs": [
        {
          "output_type": "stream",
          "name": "stdout",
          "text": [
            "0\n",
            "1\n",
            "2\n",
            "3\n",
            "4\n",
            "5\n",
            "6\n",
            "7\n",
            "8\n",
            "9\n",
            "10\n"
          ]
        }
      ]
    },
    {
      "cell_type": "code",
      "source": [
        "x=list(range(0,11,2))\n",
        "print(x)"
      ],
      "metadata": {
        "colab": {
          "base_uri": "https://localhost:8080/"
        },
        "id": "p0DsyFeSXwUU",
        "outputId": "c93c9a04-3c3b-460d-a1c2-307f2388203c"
      },
      "execution_count": null,
      "outputs": [
        {
          "output_type": "stream",
          "name": "stdout",
          "text": [
            "[0, 2, 4, 6, 8, 10]\n"
          ]
        }
      ]
    },
    {
      "cell_type": "code",
      "source": [
        "num=int(input('Ingrese el numero: '))\n",
        "for i in range(0,num+1):\n",
        "  if i%2==0:\n",
        "    print(i)\n"
      ],
      "metadata": {
        "colab": {
          "base_uri": "https://localhost:8080/"
        },
        "id": "_dgRVo8-XZPQ",
        "outputId": "8ae33ea4-390d-44a2-fc0b-4bc1455f6d50"
      },
      "execution_count": null,
      "outputs": [
        {
          "output_type": "stream",
          "name": "stdout",
          "text": [
            "Ingrese el numero: 10\n",
            "0\n",
            "2\n",
            "4\n",
            "6\n",
            "8\n",
            "10\n"
          ]
        }
      ]
    },
    {
      "cell_type": "code",
      "source": [
        "import math\n",
        "import matplotlib.pyplot as plt\n",
        "x=list(range(-10,11))\n",
        "y=[]\n",
        "z=[]\n",
        "for i in range(-10,11):\n",
        "  y.append(math.sin(i))\n",
        "  z.append(math.cos(i))\n",
        "\n",
        "plt.plot(x,y,'--')\n",
        "plt.plot(x,z)\n",
        "plt.show()\n",
        "\n"
      ],
      "metadata": {
        "colab": {
          "base_uri": "https://localhost:8080/",
          "height": 265
        },
        "id": "EncKgUhWZgst",
        "outputId": "24f1e0e8-9753-46ad-c141-a2e2a2dd57ba"
      },
      "execution_count": null,
      "outputs": [
        {
          "output_type": "display_data",
          "data": {
            "text/plain": [
              "<Figure size 432x288 with 1 Axes>"
            ],
            "image/png": "[encoded data removed]"
          },
          "metadata": {
            "needs_background": "light"
          }
        }
      ]
    },
    {
      "cell_type": "code",
      "source": [
        "#for aninadado\n",
        "for i in range(1,100):\n",
        "  for j in range(1,100):\n",
        "    if i==50 and j==10:\n",
        "      print(i,j)\n"
      ],
      "metadata": {
        "colab": {
          "base_uri": "https://localhost:8080/"
        },
        "id": "Inh5OqYma5CG",
        "outputId": "b92c1ee4-e770-46d4-ddce-7ad0be49644d"
      },
      "execution_count": null,
      "outputs": [
        {
          "output_type": "stream",
          "name": "stdout",
          "text": [
            "50 10\n"
          ]
        }
      ]
    },
    {
      "cell_type": "code",
      "source": [
        "cont=0\n",
        "frase=input('Digite frase: ')\n",
        "vocales=['a','A','e','E','i','I','o','O','u','U']\n",
        "for i in range(len(frase)):\n",
        "\tfor j in range(len(vocales)):\n",
        "\t\tif frase[i]== vocales[j]:\n",
        "\t\t\tcont=cont+1\n",
        "print('El numero de vocales es: ',cont)"
      ],
      "metadata": {
        "colab": {
          "base_uri": "https://localhost:8080/"
        },
        "id": "rNQN20lkbowW",
        "outputId": "739652c1-bd26-4bc6-cfa6-47f3969f0da4"
      },
      "execution_count": null,
      "outputs": [
        {
          "output_type": "stream",
          "name": "stdout",
          "text": [
            "Digite frase: Eucalipto\n",
            "El numero de vocales es:  5\n"
          ]
        }
      ]
    },
    {
      "cell_type": "code",
      "source": [
        "x=input().split()\n",
        "print(x)"
      ],
      "metadata": {
        "colab": {
          "base_uri": "https://localhost:8080/"
        },
        "id": "V8BjErj5dRYd",
        "outputId": "0060f7b6-959b-4748-b9a7-c92e6aa141b0"
      },
      "execution_count": null,
      "outputs": [
        {
          "output_type": "stream",
          "name": "stdout",
          "text": [
            "Hola mundo hoy es sabado\n",
            "['Hola', 'mundo', 'hoy', 'es', 'sabado']\n"
          ]
        }
      ]
    },
    {
      "cell_type": "code",
      "source": [
        "txt = \"hello, my, name is Peter, I am 26 years old\"\n",
        "\n",
        "x = txt.split(\", \")\n",
        "\n",
        "print(x)"
      ],
      "metadata": {
        "colab": {
          "base_uri": "https://localhost:8080/"
        },
        "id": "0K0vl2-xdq-4",
        "outputId": "3fd5bd63-2775-4607-d18f-d7304ada7308"
      },
      "execution_count": null,
      "outputs": [
        {
          "output_type": "stream",
          "name": "stdout",
          "text": [
            "['hello', 'my', 'name is Peter', 'I am 26 years old']\n"
          ]
        }
      ]
    },
    {
      "cell_type": "code",
      "source": [
        "x='Mensaje'\n",
        "print(len(x))"
      ],
      "metadata": {
        "colab": {
          "base_uri": "https://localhost:8080/"
        },
        "id": "V58WekBXdyrh",
        "outputId": "4c996e71-1eaa-4465-fb76-40d43398e6a5"
      },
      "execution_count": null,
      "outputs": [
        {
          "output_type": "stream",
          "name": "stdout",
          "text": [
            "7\n"
          ]
        }
      ]
    },
    {
      "cell_type": "code",
      "source": [
        "txt = \"Hello my friends\"\n",
        "\n",
        "x = txt.count('e')\n",
        "\n",
        "print(x)"
      ],
      "metadata": {
        "colab": {
          "base_uri": "https://localhost:8080/"
        },
        "id": "qJL7xjfveEHb",
        "outputId": "8c3caac7-587c-46bb-bc16-152ec1caff71"
      },
      "execution_count": null,
      "outputs": [
        {
          "output_type": "stream",
          "name": "stdout",
          "text": [
            "2\n"
          ]
        }
      ]
    },
    {
      "cell_type": "code",
      "source": [
        "x=list(range(15,0,-2))\n",
        "print(x)"
      ],
      "metadata": {
        "colab": {
          "base_uri": "https://localhost:8080/"
        },
        "id": "JSSkcmwMewye",
        "outputId": "46054d2f-6563-4b59-927d-fb0512732f3f"
      },
      "execution_count": null,
      "outputs": [
        {
          "output_type": "stream",
          "name": "stdout",
          "text": [
            "[15, 13, 11, 9, 7, 5, 3, 1]\n"
          ]
        }
      ]
    }
  ]
}